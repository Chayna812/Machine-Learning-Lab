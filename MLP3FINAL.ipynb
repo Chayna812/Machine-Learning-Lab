{
  "nbformat": 4,
  "nbformat_minor": 0,
  "metadata": {
    "colab": {
      "provenance": [],
      "authorship_tag": "ABX9TyMpnDtAI0fMhk2yv+9acHhu",
      "include_colab_link": true
    },
    "kernelspec": {
      "name": "python3",
      "display_name": "Python 3"
    },
    "language_info": {
      "name": "python"
    }
  },
  "cells": [
    {
      "cell_type": "markdown",
      "metadata": {
        "id": "view-in-github",
        "colab_type": "text"
      },
      "source": [
        "<a href=\"https://colab.research.google.com/github/Chayna812/Machine-Learning-Lab/blob/master/MLP3FINAL.ipynb\" target=\"_parent\"><img src=\"https://colab.research.google.com/assets/colab-badge.svg\" alt=\"Open In Colab\"/></a>"
      ]
    },
    {
      "cell_type": "code",
      "execution_count": null,
      "metadata": {
        "colab": {
          "base_uri": "https://localhost:8080/",
          "height": 282
        },
        "id": "LCptzBd8Lnvo",
        "outputId": "70144038-8e25-49b6-b17d-25726da3146f"
      },
      "outputs": [
        {
          "output_type": "execute_result",
          "data": {
            "text/plain": [
              "<function matplotlib.pyplot.show(*args, **kw)>"
            ]
          },
          "metadata": {},
          "execution_count": 3
        },
        {
          "output_type": "display_data",
          "data": {
            "text/plain": [
              "<Figure size 432x288 with 1 Axes>"
            ],
            "image/png": "[encoded data removed]"
          },
          "metadata": {
            "needs_background": "light"
          }
        }
      ],
      "source": [
        "import matplotlib.pyplot as plt\n",
        "x=[12,2,7,8,14,11,34,32,35,42,25]\n",
        "y=[3,5,3,2,8,9,19,17,15,12,13]\n",
        "classes=[0,0,0,0,0,0,1,1,1,1,1]\n",
        "plt.scatter(x,y,c=classes)\n",
        "plt.show"
      ]
    },
    {
      "cell_type": "code",
      "source": [],
      "metadata": {
        "id": "J4OJFBNehjbj"
      },
      "execution_count": null,
      "outputs": []
    },
    {
      "cell_type": "code",
      "source": [
        "from matplotlib.artist import kwdoc\n",
        "from sklearn.neighbors import KNeighborsClassifier\n",
        "data=list(zip(x,y))\n",
        "knn=KNeighborsClassifier(n_neighbors=1)\n",
        "knn.fit(data,classes)\n",
        "KNeighborsClassifier(n_neighbors=1)"
      ],
      "metadata": {
        "colab": {
          "base_uri": "https://localhost:8080/"
        },
        "id": "_r00whT-Nnbc",
        "outputId": "ed1052b0-11f7-4074-d34e-47039b5741b9"
      },
      "execution_count": null,
      "outputs": [
        {
          "output_type": "execute_result",
          "data": {
            "text/plain": [
              "KNeighborsClassifier(n_neighbors=1)"
            ]
          },
          "metadata": {},
          "execution_count": 4
        }
      ]
    },
    {
      "cell_type": "code",
      "source": [
        "test_new_x=2\n",
        "test_new_y=15\n",
        "new_point=[(test_new_x,test_new_y)]\n",
        "prediction=knn.predict(new_point)\n",
        "print(prediction)"
      ],
      "metadata": {
        "colab": {
          "base_uri": "https://localhost:8080/"
        },
        "id": "Ts6g5Yh3PC06",
        "outputId": "56ee47d3-60d6-4707-c8c1-36b48e39316d"
      },
      "execution_count": null,
      "outputs": [
        {
          "output_type": "stream",
          "name": "stdout",
          "text": [
            "[0]\n"
          ]
        }
      ]
    },
    {
      "cell_type": "code",
      "source": [
        "plt.scatter(x,y,c=classes)\n",
        "plt.show\n"
      ],
      "metadata": {
        "colab": {
          "base_uri": "https://localhost:8080/",
          "height": 282
        },
        "id": "eFz_h2BhuR3L",
        "outputId": "0c8869a2-b6a2-4df0-b57d-92210416039b"
      },
      "execution_count": null,
      "outputs": [
        {
          "output_type": "execute_result",
          "data": {
            "text/plain": [
              "<function matplotlib.pyplot.show(*args, **kw)>"
            ]
          },
          "metadata": {},
          "execution_count": 6
        },
        {
          "output_type": "display_data",
          "data": {
            "text/plain": [
              "<Figure size 432x288 with 1 Axes>"
            ],
            "image/png": "[encoded data removed]"
          },
          "metadata": {
            "needs_background": "light"
          }
        }
      ]
    },
    {
      "cell_type": "code",
      "source": [
        "from matplotlib.artist import kwdoc\n",
        "from sklearn.neighbors import KNeighborsClassifier\n",
        "data=list(zip(x,y))\n",
        "knn=KNeighborsClassifier(n_neighbors=5)\n",
        "knn.fit(data,classes)\n",
        "KNeighborsClassifier(n_neighbors=5)"
      ],
      "metadata": {
        "colab": {
          "base_uri": "https://localhost:8080/"
        },
        "id": "40vUAxLrunYC",
        "outputId": "64dcd357-18b0-4043-ced6-f2ee00570d29"
      },
      "execution_count": null,
      "outputs": [
        {
          "output_type": "execute_result",
          "data": {
            "text/plain": [
              "KNeighborsClassifier()"
            ]
          },
          "metadata": {},
          "execution_count": 7
        }
      ]
    },
    {
      "cell_type": "code",
      "source": [
        "test_new_x=2\n",
        "test_new_y=15\n",
        "new_point=[(test_new_x,test_new_y)]\n",
        "prediction=knn.predict(new_point)\n",
        "print(prediction)"
      ],
      "metadata": {
        "colab": {
          "base_uri": "https://localhost:8080/"
        },
        "id": "4uKW10yduv4m",
        "outputId": "66e91ae8-928e-4549-c86d-b4b000c185d8"
      },
      "execution_count": null,
      "outputs": [
        {
          "output_type": "stream",
          "name": "stdout",
          "text": [
            "[0]\n"
          ]
        }
      ]
    },
    {
      "cell_type": "code",
      "source": [
        "test_new_x=30\n",
        "test_new_y=15\n",
        "new_point=[(test_new_x,test_new_y)]\n",
        "prediction=knn.predict(new_point)\n",
        "print(prediction)"
      ],
      "metadata": {
        "colab": {
          "base_uri": "https://localhost:8080/"
        },
        "id": "i41sFwyLu028",
        "outputId": "90cde0ff-4f03-4fb3-b5af-4f0358e4eb55"
      },
      "execution_count": null,
      "outputs": [
        {
          "output_type": "stream",
          "name": "stdout",
          "text": [
            "[1]\n"
          ]
        }
      ]
    },
    {
      "cell_type": "markdown",
      "source": [
        "Linear Regression :"
      ],
      "metadata": {
        "id": "15F3LB5Xfu__"
      }
    },
    {
      "cell_type": "code",
      "source": [
        "import matplotlib.pyplot as plt\n",
        "from scipy import stats\n",
        "x=[12,2,7,8,14,11,34,32,35,42,25]\n",
        "y=[3,5,3,2,8,9,19,17,15,12,13]\n",
        "slope, intercept, r, p, std_err = stats.linregress(x, y)\n",
        "\n",
        "def myfunc(x):\n",
        "  return slope * x + intercept\n",
        "\n",
        "mymodel = list(map(myfunc, x))\n",
        "\n",
        "plt.scatter(x, y)\n",
        "plt.plot(x, mymodel)\n",
        "plt.show()\n"
      ],
      "metadata": {
        "colab": {
          "base_uri": "https://localhost:8080/",
          "height": 265
        },
        "id": "fWvSME0cfHpN",
        "outputId": "c4bdacc6-8bcf-4b09-a7b6-7e4bf8b21594"
      },
      "execution_count": null,
      "outputs": [
        {
          "output_type": "display_data",
          "data": {
            "text/plain": [
              "<Figure size 432x288 with 1 Axes>"
            ],
            "image/png": "[encoded data removed]"
          },
          "metadata": {
            "needs_background": "light"
          }
        }
      ]
    },
    {
      "cell_type": "markdown",
      "source": [
        "Naive Bayes"
      ],
      "metadata": {
        "id": "ZUXC-55nfzKd"
      }
    },
    {
      "cell_type": "code",
      "source": [
        "from sklearn.naive_bayes import GaussianNB\n",
        "x=[12,2,7,8,14,11,34,32,35,42,25]\n",
        "y=[3,5,3,2,8,9,19,17,15,12,13]\n",
        "data=list(zip(x,y))\n",
        "classes=[0,0,0,0,0,0,1,1,1,1,1]\n",
        "nb=GaussianNB()\n",
        "nb.fit(data,classes)\n",
        "\n"
      ],
      "metadata": {
        "colab": {
          "base_uri": "https://localhost:8080/"
        },
        "id": "2E6k-t_cg3VF",
        "outputId": "a3f0273c-4425-4ba8-8020-58fa420c3e0c"
      },
      "execution_count": null,
      "outputs": [
        {
          "output_type": "execute_result",
          "data": {
            "text/plain": [
              "GaussianNB()"
            ]
          },
          "metadata": {},
          "execution_count": 7
        }
      ]
    },
    {
      "cell_type": "code",
      "source": [
        "test_new_x=2\n",
        "test_new_y=15\n",
        "new_point=[(test_new_x,test_new_y)]\n",
        "prediction=nb.predict(new_point)\n",
        "print(prediction)"
      ],
      "metadata": {
        "colab": {
          "base_uri": "https://localhost:8080/"
        },
        "id": "G1zpEl_9hvKx",
        "outputId": "2163843e-a144-483f-f548-2434c307d34b"
      },
      "execution_count": null,
      "outputs": [
        {
          "output_type": "stream",
          "name": "stdout",
          "text": [
            "[0]\n"
          ]
        }
      ]
    },
    {
      "cell_type": "code",
      "source": [
        "from sklearn import metrics\n",
        "print(\"Accuracy (in %): \",metrics.accuracy_score(y,classes)*100)"
      ],
      "metadata": {
        "colab": {
          "base_uri": "https://localhost:8080/"
        },
        "id": "3v_F2W9Mh5TR",
        "outputId": "3280817f-e92d-40a7-bc30-adae50f7eb7d"
      },
      "execution_count": null,
      "outputs": [
        {
          "output_type": "stream",
          "name": "stdout",
          "text": [
            "Accuracy (in %):  0.0\n"
          ]
        }
      ]
    }
  ]
}