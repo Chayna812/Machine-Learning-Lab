{
  "nbformat": 4,
  "nbformat_minor": 0,
  "metadata": {
    "colab": {
      "provenance": [],
      "authorship_tag": "ABX9TyOJtqh0viXSz4BGUNNtmH+n",
      "include_colab_link": true
    },
    "kernelspec": {
      "name": "python3",
      "display_name": "Python 3"
    },
    "language_info": {
      "name": "python"
    }
  },
  "cells": [
    {
      "cell_type": "markdown",
      "metadata": {
        "id": "view-in-github",
        "colab_type": "text"
      },
      "source": [
        "<a href=\"https://colab.research.google.com/github/Chayna812/Machine-Learning-Lab/blob/master/ML_P4_Kmeans.ipynb\" target=\"_parent\"><img src=\"https://colab.research.google.com/assets/colab-badge.svg\" alt=\"Open In Colab\"/></a>"
      ]
    },
    {
      "cell_type": "code",
      "execution_count": 2,
      "metadata": {
        "colab": {
          "base_uri": "https://localhost:8080/",
          "height": 265
        },
        "id": "JRluttQshtZa",
        "outputId": "dd6c6137-c4ef-4faa-a768-6bdf95d06fe0"
      },
      "outputs": [
        {
          "output_type": "display_data",
          "data": {
            "text/plain": [
              "<Figure size 432x288 with 1 Axes>"
            ],
            "image/png": "[encoded data removed]"
          },
          "metadata": {}
        }
      ],
      "source": [
        "import matplotlib.pyplot as plt\n",
        "from matplotlib import style\n",
        "import numpy as np\n",
        "from sklearn.cluster import KMeans\n",
        "style.use('ggplot')\n",
        "\n",
        "#ORIGINAL:\n",
        "\n",
        "X = np.array([[1, 5],\n",
        "              [1.5, 4],\n",
        "              [5, 5],\n",
        "              [8, 4],\n",
        "              [1, 6],\n",
        "              [9, 4],[10,0.1],[12,1],[6,4.5]])\n",
        "\n",
        "clf = KMeans(n_clusters=3)\n",
        "clf.fit(X)\n",
        "\n",
        "centroids = clf.cluster_centers_\n",
        "labels = clf.labels_\n",
        "\n",
        "colors = [\"g.\",\"r.\",\"c.\",\"y.\"]\n",
        "for i in range(len(X)):\n",
        "    plt.plot(X[i][0], X[i][1], colors[labels[i]], markersize = 5)\n",
        "plt.scatter(centroids[:, 0],centroids[:, 1], marker = \"x\", s=150, linewidths = 5, zorder = 10)\n",
        "plt.show()"
      ]
    }
  ]
}