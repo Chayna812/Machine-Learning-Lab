{
  "nbformat": 4,
  "nbformat_minor": 0,
  "metadata": {
    "colab": {
      "provenance": [],
      "authorship_tag": "ABX9TyOsT9rA/ym9sVlsygo196S2",
      "include_colab_link": true
    },
    "kernelspec": {
      "name": "python3",
      "display_name": "Python 3"
    },
    "language_info": {
      "name": "python"
    }
  },
  "cells": [
    {
      "cell_type": "markdown",
      "metadata": {
        "id": "view-in-github",
        "colab_type": "text"
      },
      "source": [
        "<a href=\"https://colab.research.google.com/github/Chayna812/Machine-Learning-Lab/blob/master/Performance_Metrics_for_Classfication.ipynb\" target=\"_parent\"><img src=\"https://colab.research.google.com/assets/colab-badge.svg\" alt=\"Open In Colab\"/></a>"
      ]
    },
    {
      "cell_type": "code",
      "execution_count": null,
      "metadata": {
        "id": "xyti1oqjcoDq"
      },
      "outputs": [],
      "source": [
        "from sklearn.metrics import confusion_matrix\n",
        "from sklearn.metrics import accuracy_score\n",
        "from sklearn.metrics import classification_report\n",
        "from sklearn.metrics import roc_auc_score\n",
        "from sklearn.metrics import log_loss"
      ]
    },
    {
      "cell_type": "code",
      "source": [
        "X_actual = [1,1,0,1,0,0,1,0,0,0,1,0,0,1,0,0,1,0,0,1]\n",
        "Y_predic = [1,0,1,1,1,0,1,1,0,0,1,0,0,1,0,0,0,1,0,0]"
      ],
      "metadata": {
        "id": "IGa79tOBdEwU"
      },
      "execution_count": null,
      "outputs": []
    },
    {
      "cell_type": "code",
      "source": [
        "results = confusion_matrix(X_actual , Y_predic)\n",
        "print('confusion Matrix')\n",
        "print(results)"
      ],
      "metadata": {
        "colab": {
          "base_uri": "https://localhost:8080/"
        },
        "id": "pdU-Yvwwd2gc",
        "outputId": "16d4e8bf-edc4-43e5-92bb-145e040f5837"
      },
      "execution_count": null,
      "outputs": [
        {
          "output_type": "stream",
          "name": "stdout",
          "text": [
            "confusion Matrix\n",
            "[[8 4]\n",
            " [3 5]]\n"
          ]
        }
      ]
    },
    {
      "cell_type": "code",
      "source": [
        "print('Accuracy Score is',accuracy_score(X_actual , Y_predic))"
      ],
      "metadata": {
        "colab": {
          "base_uri": "https://localhost:8080/"
        },
        "id": "aTgzl4VyeCJ7",
        "outputId": "16e4ad51-4ca8-4901-90c1-67b6f20772d4"
      },
      "execution_count": null,
      "outputs": [
        {
          "output_type": "stream",
          "name": "stdout",
          "text": [
            "Accuracy Score is 0.65\n"
          ]
        }
      ]
    },
    {
      "cell_type": "code",
      "source": [
        "print('Classification Report : ')\n",
        "print(classification_report(X_actual , Y_predic))\n",
        "print('AUC-ROC:',roc_auc_score(X_actual , Y_predic))\n",
        "print('LOGL0SS VALUE is: ',log_loss(X_actual , Y_predic))"
      ],
      "metadata": {
        "colab": {
          "base_uri": "https://localhost:8080/"
        },
        "id": "mWl04OrpeQNk",
        "outputId": "8ff49322-a366-422f-e4db-223c7adbb5c6"
      },
      "execution_count": null,
      "outputs": [
        {
          "output_type": "stream",
          "name": "stdout",
          "text": [
            "Classification Report : \n",
            "              precision    recall  f1-score   support\n",
            "\n",
            "           0       0.73      0.67      0.70        12\n",
            "           1       0.56      0.62      0.59         8\n",
            "\n",
            "    accuracy                           0.65        20\n",
            "   macro avg       0.64      0.65      0.64        20\n",
            "weighted avg       0.66      0.65      0.65        20\n",
            "\n",
            "AUC-ROC: 0.6458333333333334\n",
            "LOGL0SS VALUE is:  12.088731657704779\n"
          ]
        }
      ]
    }
  ]
}