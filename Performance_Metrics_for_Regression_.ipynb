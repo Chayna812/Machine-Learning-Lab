{
  "nbformat": 4,
  "nbformat_minor": 0,
  "metadata": {
    "colab": {
      "provenance": [],
      "collapsed_sections": [],
      "authorship_tag": "ABX9TyMA1RAR86DSakHfYDQp7Kf/",
      "include_colab_link": true
    },
    "kernelspec": {
      "name": "python3",
      "display_name": "Python 3"
    },
    "language_info": {
      "name": "python"
    }
  },
  "cells": [
    {
      "cell_type": "markdown",
      "metadata": {
        "id": "view-in-github",
        "colab_type": "text"
      },
      "source": [
        "<a href=\"https://colab.research.google.com/github/Chayna812/Machine-Learning-Lab/blob/master/Performance_Metrics_for_Regression_.ipynb\" target=\"_parent\"><img src=\"https://colab.research.google.com/assets/colab-badge.svg\" alt=\"Open In Colab\"/></a>"
      ]
    },
    {
      "cell_type": "code",
      "execution_count": null,
      "metadata": {
        "id": "l1BL89wqe9zH"
      },
      "outputs": [],
      "source": [
        "from sklearn.metrics import r2_score\n",
        "from sklearn.metrics import mean_absolute_error\n",
        "from sklearn.metrics import mean_squared_error\n"
      ]
    },
    {
      "cell_type": "code",
      "source": [
        "X_actuall=[5,-1,2,10]\n",
        "Y_predicc=[3.5,-0.9,2,9.9]"
      ],
      "metadata": {
        "id": "2GFy9hl0fN-V"
      },
      "execution_count": null,
      "outputs": []
    },
    {
      "cell_type": "code",
      "source": [
        "print('Rsquare= ',r2_score(X_actuall,Y_predicc))\n",
        "print('MAE= ',mean_absolute_error(X_actuall,Y_predicc))\n",
        "print('MSE= ',mean_squared_error(X_actuall,Y_predicc))"
      ],
      "metadata": {
        "colab": {
          "base_uri": "https://localhost:8080/"
        },
        "id": "26s5jvvWfbYc",
        "outputId": "9f93417e-91e3-4945-a78b-df3817188067"
      },
      "execution_count": null,
      "outputs": [
        {
          "output_type": "stream",
          "name": "stdout",
          "text": [
            "Rsquare=  0.9656060606060606\n",
            "MAE=  0.42499999999999993\n",
            "MSE=  0.5674999999999999\n"
          ]
        }
      ]
    },
    {
      "cell_type": "code",
      "source": [],
      "metadata": {
        "id": "PLVQbyJYf5tN"
      },
      "execution_count": null,
      "outputs": []
    }
  ]
}